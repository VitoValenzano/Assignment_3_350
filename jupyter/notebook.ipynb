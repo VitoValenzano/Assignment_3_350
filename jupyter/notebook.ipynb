{
 "cells": [
  {
   "cell_type": "markdown",
   "metadata": {},
   "source": [
    "# Step 4"
   ]
  },
  {
   "cell_type": "code",
   "execution_count": 1,
   "metadata": {},
   "outputs": [],
   "source": [
    "from neo4j import GraphDatabase\n",
    "\n",
    "# Setting up database connection\n",
    "uri = \"bolt://localhost:7687\"\n",
    "username = \"neo4j\"\n",
    "password = \"Whatever your password is\"\n",
    "driver = GraphDatabase.driver(uri, auth=(username, password))\n"
   ]
  },
  {
   "cell_type": "markdown",
   "metadata": {},
   "source": [
    "# Step 5"
   ]
  },
  {
   "cell_type": "code",
   "execution_count": 2,
   "metadata": {},
   "outputs": [],
   "source": [
    "pii_query = \"\"\"\n",
    "CALL gds.graph.project(\n",
    "    'clientClusters',\n",
    "    { Client: {\n",
    "        label: 'Client'\n",
    "    }},\n",
    "    { SHARED_PII: {\n",
    "        type: 'SHARED_PII',\n",
    "        orientation: 'UNDIRECTED',\n",
    "        properties: {\n",
    "            count: {\n",
    "                property: 'count'\n",
    "            }\n",
    "        }\n",
    "    }}\n",
    ")\n",
    "YIELD graphName, nodeCount, relationshipCount\n",
    "\"\"\"\n",
    "with driver.session() as session:\n",
    "    session.run(pii_query)\n",
    "\n"
   ]
  },
  {
   "cell_type": "markdown",
   "metadata": {},
   "source": [
    "# Step 6"
   ]
  },
  {
   "cell_type": "code",
   "execution_count": 3,
   "metadata": {},
   "outputs": [],
   "source": [
    "#In-memory projection of graph\n",
    "with driver.session() as session:\n",
    "    session.run(\"\"\"\n",
    "        CALL gds.graph.project(\n",
    "        'clientClusters',\n",
    "        'Client',\n",
    "        'SHARED_PII'\n",
    "        )\n",
    "    \"\"\")\n",
    "\n"
   ]
  },
  {
   "cell_type": "markdown",
   "metadata": {},
   "source": [
    "# Step 7"
   ]
  },
  {
   "cell_type": "code",
   "execution_count": 4,
   "metadata": {},
   "outputs": [],
   "source": [
    "# WCC\n",
    "with driver.session() as session:\n",
    "    session.run(\"\"\"\n",
    "        CALL gds.wcc.stream(\n",
    "            'clientClusters',\n",
    "            {\n",
    "                nodeLabels: ['Client'],\n",
    "                relationshipTypes: ['SHARED_PII'],\n",
    "                consecutiveIds: true\n",
    "            }\n",
    "        )\n",
    "        YIELD nodeId, componentId\n",
    "        RETURN gds.util.asNode(nodeId).id AS clientId, componentId\n",
    "        ORDER BY componentId, clientId\n",
    "    \"\"\")"
   ]
  },
  {
   "cell_type": "markdown",
   "metadata": {},
   "source": [
    "# Step 8"
   ]
  },
  {
   "cell_type": "code",
   "execution_count": 5,
   "metadata": {},
   "outputs": [],
   "source": [
    "with driver.session() as session:\n",
    "    session.run(\"\"\"\n",
    "        CALL gds.wcc.stream(\n",
    "            'clientClusters',\n",
    "            {\n",
    "                nodeLabels: ['Client'],\n",
    "                relationshipTypes: ['SHARED_PII'],\n",
    "                consecutiveIds: true\n",
    "            }\n",
    "        )\n",
    "        YIELD nodeId, componentId\n",
    "        WITH gds.util.asNode(nodeId) AS clientId, componentId AS clusterId\n",
    "        WITH clusterId, collect(clientId.id) AS clients\n",
    "        WITH clusterId, clients, size(clients) AS clusterSize \n",
    "        WHERE clusterSize >= 2\n",
    "        UNWIND clients AS client\n",
    "        MATCH (c:Client) WHERE c.id = client\n",
    "        SET c.secondPartyFraudRing = clusterId\n",
    "    \"\"\")"
   ]
  },
  {
   "cell_type": "markdown",
   "metadata": {},
   "source": [
    "# Step 9"
   ]
  },
  {
   "cell_type": "code",
   "execution_count": 6,
   "metadata": {},
   "outputs": [
    {
     "name": "stderr",
     "output_type": "stream",
     "text": [
      "Received notification from DBMS server: {severity: WARNING} {code: Neo.ClientNotification.Statement.FeatureDeprecationWarning} {category: DEPRECATION} {title: This feature is deprecated and will be removed in future versions.} {description: The semantics of using colon in the separation of alternative relationship types will change in a future version. (Please use ':HAS_EMAIL|HAS_PHONE|HAS_SSN' instead)} {position: line: 12, column: 56, offset: 512} for query: '\\n        // first, find clients\\n            MATCH (c:Client) WHERE c.secondPartyFraudRing is NOT NULL\\n            WITH collect(c) as clients\\n        // second, find the PII nodes\\n            MATCH (n) WHERE n:Email OR n:Phone OR n:SSN\\n        // combine the two sets of nodes\\n            WITH clients, collect(n) AS piis\\n            WITH clients + piis AS nodes\\n        // use only the clients that belong to a cluster of size >= 2\\n        // as per STEP 8\\n            MATCH (c:Client) -[:HAS_EMAIL | :HAS_PHONE | :HAS_SSN]->(p)\\n            WHERE c.secondPartyFraudRing is NOT NULL\\n        // now make the bipartite graph,\\n        // with a new relationship named HAS_PII\\n            WITH nodes, collect({source: c, target: p}) as relationships\\n        // use a Cypher projection\\n        // not the usual native projection\\n            CALL gds.graph.project.cypher(\\n                \\'similarity\\',\\n                \"UNWIND $nodes as n\\n                RETURN id(n) AS id,labels(n) AS labels\",\\n                    \"UNWIND $relationships as r\\n                RETURN id(r[\\'source\\']) AS source, id(r[\\'target\\']) AS target,\\n                    \\'HAS_PII\\' as type\",\\n                { parameters:\\n                { nodes: nodes,\\n                    relationships: relationships }\\n                }\\n            )\\n        YIELD graphName, nodeCount, relationshipCount\\n        RETURN graphName, nodeCount, relationshipCount\\n    '\n",
      "Received notification from DBMS server: {severity: WARNING} {code: Neo.ClientNotification.Statement.FeatureDeprecationWarning} {category: DEPRECATION} {title: This feature is deprecated and will be removed in future versions.} {description: The query used a deprecated procedure. ('gds.graph.project.cypher' has been replaced by 'gds.graph.project Cypher projection as an aggregation function')} {position: line: 19, column: 13, offset: 835} for query: '\\n        // first, find clients\\n            MATCH (c:Client) WHERE c.secondPartyFraudRing is NOT NULL\\n            WITH collect(c) as clients\\n        // second, find the PII nodes\\n            MATCH (n) WHERE n:Email OR n:Phone OR n:SSN\\n        // combine the two sets of nodes\\n            WITH clients, collect(n) AS piis\\n            WITH clients + piis AS nodes\\n        // use only the clients that belong to a cluster of size >= 2\\n        // as per STEP 8\\n            MATCH (c:Client) -[:HAS_EMAIL | :HAS_PHONE | :HAS_SSN]->(p)\\n            WHERE c.secondPartyFraudRing is NOT NULL\\n        // now make the bipartite graph,\\n        // with a new relationship named HAS_PII\\n            WITH nodes, collect({source: c, target: p}) as relationships\\n        // use a Cypher projection\\n        // not the usual native projection\\n            CALL gds.graph.project.cypher(\\n                \\'similarity\\',\\n                \"UNWIND $nodes as n\\n                RETURN id(n) AS id,labels(n) AS labels\",\\n                    \"UNWIND $relationships as r\\n                RETURN id(r[\\'source\\']) AS source, id(r[\\'target\\']) AS target,\\n                    \\'HAS_PII\\' as type\",\\n                { parameters:\\n                { nodes: nodes,\\n                    relationships: relationships }\\n                }\\n            )\\n        YIELD graphName, nodeCount, relationshipCount\\n        RETURN graphName, nodeCount, relationshipCount\\n    '\n"
     ]
    }
   ],
   "source": [
    "#Cypher projection with script from slides\n",
    "with driver.session() as session:\n",
    "    session.run(\"\"\"\n",
    "        // first, find clients\n",
    "            MATCH (c:Client) WHERE c.secondPartyFraudRing is NOT NULL\n",
    "            WITH collect(c) as clients\n",
    "        // second, find the PII nodes\n",
    "            MATCH (n) WHERE n:Email OR n:Phone OR n:SSN\n",
    "        // combine the two sets of nodes\n",
    "            WITH clients, collect(n) AS piis\n",
    "            WITH clients + piis AS nodes\n",
    "        // use only the clients that belong to a cluster of size >= 2\n",
    "        // as per STEP 8\n",
    "            MATCH (c:Client) -[:HAS_EMAIL | :HAS_PHONE | :HAS_SSN]->(p)\n",
    "            WHERE c.secondPartyFraudRing is NOT NULL\n",
    "        // now make the bipartite graph,\n",
    "        // with a new relationship named HAS_PII\n",
    "            WITH nodes, collect({source: c, target: p}) as relationships\n",
    "        // use a Cypher projection\n",
    "        // not the usual native projection\n",
    "            CALL gds.graph.project.cypher(\n",
    "                'similarity',\n",
    "                \"UNWIND $nodes as n\n",
    "                RETURN id(n) AS id,labels(n) AS labels\",\n",
    "                    \"UNWIND $relationships as r\n",
    "                RETURN id(r['source']) AS source, id(r['target']) AS target,\n",
    "                    'HAS_PII' as type\",\n",
    "                { parameters:\n",
    "                { nodes: nodes,\n",
    "                    relationships: relationships }\n",
    "                }\n",
    "            )\n",
    "        YIELD graphName, nodeCount, relationshipCount\n",
    "        RETURN graphName, nodeCount, relationshipCount\n",
    "    \"\"\")"
   ]
  },
  {
   "cell_type": "markdown",
   "metadata": {},
   "source": [
    "# Step 10"
   ]
  },
  {
   "cell_type": "code",
   "execution_count": 7,
   "metadata": {},
   "outputs": [],
   "source": [
    "with driver.session() as session:\n",
    "    session.run(\"\"\"\n",
    "    CALL gds.nodeSimilarity.mutate('similarity', {\n",
    "      mutateProperty: 'jaccardScore',\n",
    "      mutateRelationshipType: 'SIMILAR_TO',\n",
    "      topK: 15\n",
    "    })\n",
    "    YIELD nodesCompared, relationshipsWritten\n",
    "    \"\"\")"
   ]
  },
  {
   "cell_type": "markdown",
   "metadata": {},
   "source": [
    "# Step 11"
   ]
  },
  {
   "cell_type": "code",
   "execution_count": 8,
   "metadata": {
    "scrolled": true
   },
   "outputs": [
    {
     "name": "stderr",
     "output_type": "stream",
     "text": [
      "Received notification from DBMS server: {severity: WARNING} {code: Neo.ClientNotification.Statement.FeatureDeprecationWarning} {category: DEPRECATION} {title: This feature is deprecated and will be removed in future versions.} {description: The query used a deprecated procedure. ('gds.graph.writeRelationship' has been replaced by 'gds.graph.relationships.write')} {position: line: 2, column: 1, offset: 5} for query: \"\\n    CALL gds.graph.writeRelationship('similarity', 'SIMILAR_TO', 'jaccardScore')\\n    YIELD relationshipsWritten\\n    \"\n"
     ]
    }
   ],
   "source": [
    "with driver.session() as session:\n",
    "    # Repeat step 10 in new session\n",
    "    # Had to make a separate relationship to copy it to the original db,\n",
    "    # as it couldn't be called the same thing as in step 10\n",
    "    session.run(\"\"\"\n",
    "    CALL gds.nodeSimilarity.mutate('similarity', {\n",
    "      mutateProperty: 'jaccardScore',\n",
    "      mutateRelationshipType: 'COPY_SIMILAR_TO', \n",
    "      topK: 15\n",
    "    })\n",
    "    YIELD nodesCompared, relationshipsWritten\n",
    "    \"\"\")\n",
    "\n",
    "    # NOW writing SIMILAR_TO back to og database\n",
    "    session.run(\"\"\"\n",
    "    CALL gds.graph.writeRelationship('similarity', 'SIMILAR_TO', 'jaccardScore')\n",
    "    YIELD relationshipsWritten\n",
    "    \"\"\")"
   ]
  },
  {
   "cell_type": "markdown",
   "metadata": {},
   "source": [
    "# Step 12"
   ]
  },
  {
   "cell_type": "code",
   "execution_count": 9,
   "metadata": {
    "vscode": {
     "languageId": "groovy"
    }
   },
   "outputs": [],
   "source": [
    "with driver.session() as session:\n",
    "    session.run(\"\"\"\n",
    "    CALL gds.degree.write(\n",
    "      'similarity', \n",
    "      {\n",
    "        nodeLabels: ['Client'],\n",
    "        relationshipTypes: ['SIMILAR_TO'],\n",
    "        relationshipWeightProperty: 'jaccardScore',\n",
    "        writeProperty: 'secondPartyFraudScore'\n",
    "      })\n",
    "    YIELD centralityDistribution, nodePropertiesWritten\n",
    "    \"\"\")"
   ]
  },
  {
   "cell_type": "markdown",
   "metadata": {},
   "source": [
    "# Step 13"
   ]
  },
  {
   "cell_type": "code",
   "execution_count": 10,
   "metadata": {},
   "outputs": [],
   "source": [
    "with driver.session() as session:\n",
    "    session.run(\"\"\"\n",
    "    MATCH (c:Client)\n",
    "    WHERE c.secondPartyFraudScore IS NOT NULL\n",
    "    WITH percentileCont(c.secondPartyFraudScore, 0.95) AS threshold\n",
    "    MATCH (c:Client)\n",
    "    WHERE c.secondPartyFraudScore > threshold\n",
    "    SET c:SecondPartyFraudster\n",
    "    \"\"\")"
   ]
  },
  {
   "cell_type": "markdown",
   "metadata": {},
   "source": [
    "# Step 14"
   ]
  },
  {
   "cell_type": "code",
   "execution_count": 11,
   "metadata": {},
   "outputs": [
    {
     "name": "stdout",
     "output_type": "stream",
     "text": [
      "               c_name              c_id\n",
      "0   Brooklyn Harrison  4029043591201321\n",
      "1         Aiden Hurst  4583937317122539\n",
      "2         Sarah Klein  4912587051525728\n",
      "3       Kennedy Keith  4446118457512030\n",
      "4    Samantha Mueller  4717521340444448\n",
      "5       Benjamin Moss  4189330002136246\n",
      "6    Charlotte Foster  4024985944102082\n",
      "7          Ryan Patel  4614177132519923\n",
      "8        Landon Welch  4359490519123048\n",
      "9     Allison Alvarez  4371660075922934\n",
      "10     Madeline Ramos  4818802026065667\n",
      "11     Gabriel Oliver  4385217169131833\n",
      "12   Scarlett Solomon  4830783673717400\n",
      "13       Julia Ortega  4632977841783696\n",
      "14      Jose Roberson  4268433407129628\n",
      "15   Aaliyah Thornton  4934732209995365\n",
      "16        Emily Stout  4748268948389491\n"
     ]
    }
   ],
   "source": [
    "#For dataframe to print out results\n",
    "import pandas as pd\n",
    "with driver.session() as session:\n",
    "    result = session.run(\"\"\"\n",
    "    MATCH (c:Client)\n",
    "    WHERE c:SecondPartyFraudster\n",
    "    RETURN c.name AS c_name, c.id AS c_id\n",
    "    \"\"\")\n",
    "    \n",
    "    df = pd.DataFrame(result, columns=['c_name', 'c_id'])\n",
    "    \n",
    "    print(df)"
   ]
  }
 ],
 "metadata": {
  "kernelspec": {
   "display_name": "Python 3 (ipykernel)",
   "language": "python",
   "name": "python3"
  },
  "language_info": {
   "codemirror_mode": {
    "name": "ipython",
    "version": 3
   },
   "file_extension": ".py",
   "mimetype": "text/x-python",
   "name": "python",
   "nbconvert_exporter": "python",
   "pygments_lexer": "ipython3",
   "version": "3.12.7"
  }
 },
 "nbformat": 4,
 "nbformat_minor": 4
}
