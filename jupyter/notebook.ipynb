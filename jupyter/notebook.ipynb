{
 "cells": [
  {
   "cell_type": "markdown",
   "metadata": {},
   "source": [
    "# Step 4"
   ]
  },
  {
   "cell_type": "code",
   "execution_count": null,
   "metadata": {},
   "outputs": [],
   "source": [
    "# Install required libraries\n",
    "!pip install neo4j\n",
    "\n",
    "# Import required libraries\n",
    "from neo4j import GraphDatabase\n",
    "\n",
    "# Set up database connection\n",
    "uri = \"bolt://localhost:7687\"\n",
    "username = \"neo4j\"\n",
    "password = \"your password here\"\n",
    "driver = GraphDatabase.driver(uri, auth=(username, password))\n",
    "\n",
    "# Define a function to project a graph\n",
    "def project_graph(tx):\n",
    "    result = tx.run(\"\"\"\n",
    "    CALL gds.graph.project(\n",
    "        'fraud-detection',\n",
    "        'Person',\n",
    "        'KNOWS'\n",
    "    )\n",
    "    \"\"\")\n",
    "    return result.single()\n",
    "\n",
    "# Test database connection and project the graph\n",
    "with driver.session() as session:\n",
    "    session.write_transaction(project_graph)\n",
    "\n",
    "print(\"Graph projected successfully.\")"
   ]
  },
  {
   "cell_type": "markdown",
   "metadata": {},
   "source": [
    "# Step 5\n",
    "#### Create the SHARED_PII relationship between clients"
   ]
  },
  {
   "cell_type": "code",
   "execution_count": 5,
   "metadata": {},
   "outputs": [
    {
     "name": "stdout",
     "output_type": "stream",
     "text": [
      "SHARED_PII relationships created.\n",
      "<Record nodes=[] relationships=[]>\n"
     ]
    }
   ],
   "source": [
    "# Define a function to create the SHARED_PII relationship\n",
    "def create_shared_pii_relationship(driver):\n",
    "    with driver.session() as session:\n",
    "        # Create the SHARED_PII relationship between clients\n",
    "        session.run(\"\"\"\n",
    "        MATCH (c1:Client), (c2:Client)\n",
    "        WHERE c1 <> c2\n",
    "        CREATE (c1)-[:SHARED_PII]->(c2)\n",
    "        \"\"\")\n",
    "        print(\"SHARED_PII relationships created.\")\n",
    "\n",
    "# Call the function to create the SHARED_PII relationship\n",
    "create_shared_pii_relationship(driver)\n",
    "\n",
    "# Visualize the resulting subgraph\n",
    "with driver.session() as session:\n",
    "    result = session.run(\"CALL db.schema.visualization()\")\n",
    "    for record in result:\n",
    "        print(record)"
   ]
  },
  {
   "cell_type": "markdown",
   "metadata": {},
   "source": [
    "# Step 6"
   ]
  },
  {
   "cell_type": "code",
   "execution_count": null,
   "metadata": {},
   "outputs": [],
   "source": [
    "# Create an in-memory projection of the graph\n",
    "def create_in_memory_projection(driver):\n",
    "    with driver.session() as session:\n",
    "        session.run(\"\"\"\n",
    "        CALL gds.graph.project(\n",
    "            'clientClusters',\n",
    "            'Client',\n",
    "            'SHARED_PII'\n",
    "        )\n",
    "        \"\"\")\n",
    "        print(\"In-memory projection 'clientClusters' created.\")\n",
    "\n",
    "# Call the function to create the in-memory projection\n",
    "create_in_memory_projection(driver)"
   ]
  },
  {
   "cell_type": "markdown",
   "metadata": {},
   "source": [
    "# Step 7"
   ]
  },
  {
   "cell_type": "code",
   "execution_count": null,
   "metadata": {},
   "outputs": [],
   "source": [
    "# Define a function to run the WCC algorithm\n",
    "def run_wcc_algorithm(driver):\n",
    "    with driver.session() as session:\n",
    "        result = session.run(\"\"\"\n",
    "        CALL gds.wcc.stream('clientClusters')\n",
    "        YIELD nodeId, componentId\n",
    "        RETURN gds.util.asNode(nodeId).name AS clientName, componentId\n",
    "        ORDER BY componentId, clientName\n",
    "        \"\"\")\n",
    "        for record in result:\n",
    "            print(record)\n",
    "\n",
    "# Call the function to run the WCC algorithm\n",
    "run_wcc_algorithm(driver)"
   ]
  },
  {
   "cell_type": "markdown",
   "metadata": {},
   "source": [
    "# Step 8"
   ]
  },
  {
   "cell_type": "code",
   "execution_count": null,
   "metadata": {},
   "outputs": [],
   "source": [
    "# Define a function to mark clients based on cluster size\n",
    "def mark_clients_based_on_cluster_size(driver):\n",
    "    with driver.session() as session:\n",
    "        # Get the cluster sizes\n",
    "        cluster_sizes = session.run(\"\"\"\n",
    "        CALL gds.wcc.stream('clientClusters')\n",
    "        YIELD nodeId, componentId\n",
    "        RETURN componentId, count(*) AS size\n",
    "        \"\"\")\n",
    "        \n",
    "        # Mark clients based on cluster size\n",
    "        for record in cluster_sizes:\n",
    "            component_id = record['componentId']\n",
    "            size = record['size']\n",
    "            if size >= 2:\n",
    "                session.run(\"\"\"\n",
    "                MATCH (c:Client)-[:SHARED_PII]->(c2:Client)\n",
    "                WHERE gds.util.asNode(c).componentId = $component_id\n",
    "                SET c.possiblyFraud = true\n",
    "                \"\"\", component_id=component_id)\n",
    "            else:\n",
    "                session.run(\"\"\"\n",
    "                MATCH (c:Client)\n",
    "                WHERE gds.util.asNode(c).componentId = $component_id\n",
    "                SET c.possiblyFraud = false\n",
    "                \"\"\", component_id=component_id)\n",
    "        print(\"Clients marked based on cluster size.\")\n",
    "\n",
    "# Call the function to mark clients based on cluster size\n",
    "mark_clients_based_on_cluster_size(driver)"
   ]
  },
  {
   "cell_type": "markdown",
   "metadata": {},
   "source": [
    "# Step 9"
   ]
  },
  {
   "cell_type": "code",
   "execution_count": null,
   "metadata": {},
   "outputs": [],
   "source": []
  }
 ],
 "metadata": {
  "kernelspec": {
   "display_name": "Python 3",
   "language": "python",
   "name": "python3"
  },
  "language_info": {
   "codemirror_mode": {
    "name": "ipython",
    "version": 3
   },
   "file_extension": ".py",
   "mimetype": "text/x-python",
   "name": "python",
   "nbconvert_exporter": "python",
   "pygments_lexer": "ipython3",
   "version": "3.10.12"
  }
 },
 "nbformat": 4,
 "nbformat_minor": 2
}
